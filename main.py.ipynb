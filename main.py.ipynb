{
 "cells": [
  {
   "cell_type": "code",
   "execution_count": 6,
   "metadata": {},
   "outputs": [],
   "source": [
    "import os\n",
    "import csv"
   ]
  },
  {
   "cell_type": "code",
   "execution_count": 11,
   "metadata": {},
   "outputs": [],
   "source": [
    "csvpath = os.path.join('Resources', 'election_data.csv')\n",
    "csvpath_out = os.path.join('Resources', 'election_data.txt')"
   ]
  },
  {
   "cell_type": "code",
   "execution_count": 12,
   "metadata": {},
   "outputs": [],
   "source": [
    "with open(csvpath, newline='') as csvfile:\n",
    "    csvreader = csv.reader(csvfile, delimiter=',')\n",
    "    csv_header = next(csvreader, None)\n",
    "\n",
    "    tot_votes = 0\n",
    "    candidates = []\n",
    "    votes = []\n",
    "\n",
    "    for row in csvreader:\n",
    "        tot_votes += 1\n",
    "        if row[2] in candidates:\n",
    "            votes[candidates.index(row[2])] += 1\n",
    "        else:\n",
    "            candidates.append(row[2])\n",
    "            votes.append(1)"
   ]
  },
  {
   "cell_type": "code",
   "execution_count": 13,
   "metadata": {},
   "outputs": [],
   "source": [
    "with open(csvpath_out, 'w', newline='') as txtfile:\n",
    "\n",
    "    txtfile.write('-------------------------' + '\\n')\n",
    "    txtfile.write('ELECTION RESULTS' + '\\n')\n",
    "    txtfile.write('-------------------------' + '\\n')\n",
    "    txtfile.write('TOTAL VOTES: ' + str(tot_votes) + '\\n')\n",
    "    txtfile.write('-------------------------' + '\\n')\n",
    "\n",
    "    for y in range(len(candidates)):\n",
    "\n",
    "        txtfile.write(candidates[y] + ': ' + str(format(votes[y] / tot_votes * 100, '.3f')) + '% (' + str(votes[y]) + ')\\n')\n",
    "\n",
    "    txtfile.write('-------------------------' + '\\n')\n",
    "    txtfile.write('THE WINNER!: ' + candidates[votes.index(max(votes))] + '\\n')\n",
    "    txtfile.write('-------------------------')"
   ]
  },
  {
   "cell_type": "code",
   "execution_count": 15,
   "metadata": {},
   "outputs": [
    {
     "name": "stdout",
     "output_type": "stream",
     "text": [
      "-------------------------\n",
      "ELECTION RESULTS\n",
      "-------------------------\n",
      "TOTAL VOTES: 3521001\n",
      "-------------------------\n",
      "Khan: 63.000% (2218231)\n",
      "Correy: 20.000% (704200)\n",
      "Li: 14.000% (492940)\n",
      "O'Tooley: 3.000% (105630)\n",
      "-------------------------\n",
      "THE WINNER!: Khan\n",
      "-------------------------"
     ]
    }
   ],
   "source": [
    "with open(csvpath_out, newline='') as f:\n",
    "    for line in f:\n",
    "        print(line, end = '')"
   ]
  },
  {
   "cell_type": "code",
   "execution_count": null,
   "metadata": {},
   "outputs": [],
   "source": []
  }
 ],
 "metadata": {
  "kernelspec": {
   "display_name": "Python 3",
   "language": "python",
   "name": "python3"
  },
  "language_info": {
   "codemirror_mode": {
    "name": "ipython",
    "version": 3
   },
   "file_extension": ".py",
   "mimetype": "text/x-python",
   "name": "python",
   "nbconvert_exporter": "python",
   "pygments_lexer": "ipython3",
   "version": "3.7.4"
  }
 },
 "nbformat": 4,
 "nbformat_minor": 2
}
