{
 "cells": [
  {
   "cell_type": "code",
   "execution_count": 1,
   "metadata": {},
   "outputs": [],
   "source": [
    "import os\n",
    "import csv "
   ]
  },
  {
   "cell_type": "code",
   "execution_count": 2,
   "metadata": {},
   "outputs": [],
   "source": [
    "csvpath = os.path.join('Resources', 'employee_data.csv')\n",
    "csvpath_out = os.path.join('Resources', 'employee_data.csv')"
   ]
  },
  {
   "cell_type": "code",
   "execution_count": 3,
   "metadata": {},
   "outputs": [],
   "source": [
    "emp_ID = []\n",
    "\n",
    "First_name = []\n",
    "\n",
    "Last_name = []\n",
    "\n",
    "DOB =[]\n",
    "\n",
    "SSN = []\n",
    "\n",
    "State = []"
   ]
  },
  {
   "cell_type": "code",
   "execution_count": 4,
   "metadata": {},
   "outputs": [],
   "source": [
    "us_state_abbrev = {\n",
    "\n",
    "    'Alabama': 'AL',\n",
    "\n",
    "    'Alaska': 'AK',\n",
    "\n",
    "    'Arizona': 'AZ',\n",
    "\n",
    "    'Arkansas': 'AR',\n",
    "\n",
    "    'California': 'CA',\n",
    "\n",
    "    'Colorado': 'CO',\n",
    "\n",
    "    'Connecticut': 'CT',\n",
    "\n",
    "    'Delaware': 'DE',\n",
    "\n",
    "    'Florida': 'FL',\n",
    "\n",
    "    'Georgia': 'GA',\n",
    "\n",
    "    'Hawaii': 'HI',\n",
    "\n",
    "    'Idaho': 'ID',\n",
    "\n",
    "    'Illinois': 'IL',\n",
    "\n",
    "    'Indiana': 'IN',\n",
    "\n",
    "    'Iowa': 'IA',\n",
    "\n",
    "    'Kansas': 'KS',\n",
    "\n",
    "    'Kentucky': 'KY',\n",
    "\n",
    "    'Louisiana': 'LA',\n",
    "\n",
    "    'Maine': 'ME',\n",
    "\n",
    "    'Maryland': 'MD',\n",
    "\n",
    "    'Massachusetts': 'MA',\n",
    "\n",
    "    'Michigan': 'MI',\n",
    "\n",
    "    'Minnesota': 'MN',\n",
    "\n",
    "    'Mississippi': 'MS',\n",
    "\n",
    "    'Missouri': 'MO',\n",
    "\n",
    "    'Montana': 'MT',\n",
    "\n",
    "    'Nebraska': 'NE',\n",
    "\n",
    "    'Nevada': 'NV',\n",
    "\n",
    "    'New Hampshire': 'NH',\n",
    "\n",
    "    'New Jersey': 'NJ',\n",
    "\n",
    "    'New Mexico': 'NM',\n",
    "\n",
    "    'New York': 'NY',\n",
    "\n",
    "    'North Carolina': 'NC',\n",
    "\n",
    "    'North Dakota': 'ND',\n",
    "\n",
    "    'Ohio': 'OH',\n",
    "\n",
    "    'Oklahoma': 'OK',\n",
    "\n",
    "    'Oregon': 'OR',\n",
    "\n",
    "    'Pennsylvania': 'PA',\n",
    "\n",
    "    'Rhode Island': 'RI',\n",
    "\n",
    "    'South Carolina': 'SC',\n",
    "\n",
    "    'South Dakota': 'SD',\n",
    "\n",
    "    'Tennessee': 'TN',\n",
    "\n",
    "    'Texas': 'TX',\n",
    "\n",
    "    'Utah': 'UT',\n",
    "\n",
    "    'Vermont': 'VT',\n",
    "\n",
    "    'Virginia': 'VA',\n",
    "\n",
    "    'Washington': 'WA',\n",
    "\n",
    "    'West Virginia': 'WV',\n",
    "\n",
    "    'Wisconsin': 'WI',\n",
    "\n",
    "    'Wyoming': 'WY',\n",
    "}"
   ]
  },
  {
   "cell_type": "code",
   "execution_count": 7,
   "metadata": {},
   "outputs": [
    {
     "ename": "SyntaxError",
     "evalue": "invalid character in identifier (<ipython-input-7-44c79dcf5ff1>, line 1)",
     "output_type": "error",
     "traceback": [
      "\u001b[1;36m  File \u001b[1;32m\"<ipython-input-7-44c79dcf5ff1>\"\u001b[1;36m, line \u001b[1;32m1\u001b[0m\n\u001b[1;33m    with open(‘employee_data.csv’, ‘rb’) as f:\u001b[0m\n\u001b[1;37m                           ^\u001b[0m\n\u001b[1;31mSyntaxError\u001b[0m\u001b[1;31m:\u001b[0m invalid character in identifier\n"
     ]
    }
   ],
   "source": [
    "with open(‘employee_data.csv’, ‘rb’) as f:\n",
    "reader = csv.reader(f)\n",
    "\n",
    "for row in reader:\n",
    "print row\n",
    "    \n",
    "    for row in reader:\n",
    "\n",
    "        emp_id.(row['Emp ID'])\n",
    "\n",
    "        First_name.(row['Name'].split(\" \")[0])\n",
    "\n",
    "        Last_name.(row['Name'].split(\" \")[1])\n",
    "\n",
    "        DOB.(row['DOB'].split('-')[1] + '/' + row['DOB'].split('-')[2] + '/' + row['DOB'].split('-')[0])\n",
    "\n",
    "        SSN.('***-**-' + row['SSN'].split('-')[2])\n",
    "\n",
    "        State.(us_state_abbrev[row['State']]) "
   ]
  },
  {
   "cell_type": "code",
   "execution_count": 9,
   "metadata": {},
   "outputs": [
    {
     "ename": "SyntaxError",
     "evalue": "invalid syntax (<ipython-input-9-8a9a9c55c10d>, line 7)",
     "output_type": "error",
     "traceback": [
      "\u001b[1;36m  File \u001b[1;32m\"<ipython-input-9-8a9a9c55c10d>\"\u001b[1;36m, line \u001b[1;32m7\u001b[0m\n\u001b[1;33m    l_name.(row['Name'].split(\" \")[1])\u001b[0m\n\u001b[1;37m           ^\u001b[0m\n\u001b[1;31mSyntaxError\u001b[0m\u001b[1;31m:\u001b[0m invalid syntax\n"
     ]
    }
   ],
   "source": [
    "for row in reader:\n",
    "\n",
    "        emp_id(row['Emp ID'])\n",
    "\n",
    "        f_name(row['Name'].split(\" \")[0])\n",
    "\n",
    "        l_name.(row['Name'].split(\" \")[1])\n",
    "\n",
    "        DOB(row['DOB'].split('-')[1] + '/' + row['DOB'].split('-')[2] + '/' + row['DOB'].split('-')[0])\n",
    "\n",
    "        SSN.append('***-**-' + row['SSN'].split('-')[2])\n",
    "\n",
    "        state(us_state_abbrev[row['State']])   "
   ]
  },
  {
   "cell_type": "code",
   "execution_count": 10,
   "metadata": {},
   "outputs": [
    {
     "ename": "NameError",
     "evalue": "name 'emp_id' is not defined",
     "output_type": "error",
     "traceback": [
      "\u001b[1;31m---------------------------------------------------------------------------\u001b[0m",
      "\u001b[1;31mNameError\u001b[0m                                 Traceback (most recent call last)",
      "\u001b[1;32m<ipython-input-10-35960ea4f828>\u001b[0m in \u001b[0;36m<module>\u001b[1;34m\u001b[0m\n\u001b[1;32m----> 1\u001b[1;33m \u001b[0mnew_info\u001b[0m \u001b[1;33m=\u001b[0m \u001b[0mzip\u001b[0m\u001b[1;33m(\u001b[0m\u001b[0memp_id\u001b[0m\u001b[1;33m,\u001b[0m \u001b[0mf_name\u001b[0m\u001b[1;33m,\u001b[0m \u001b[0ml_name\u001b[0m\u001b[1;33m,\u001b[0m \u001b[0mDOB\u001b[0m\u001b[1;33m,\u001b[0m \u001b[0mSSN\u001b[0m\u001b[1;33m,\u001b[0m \u001b[0mstate\u001b[0m\u001b[1;33m)\u001b[0m\u001b[1;33m\u001b[0m\u001b[1;33m\u001b[0m\u001b[0m\n\u001b[0m\u001b[0;32m      2\u001b[0m \u001b[1;33m\u001b[0m\u001b[0m\n\u001b[0;32m      3\u001b[0m \u001b[1;33m\u001b[0m\u001b[0m\n",
      "\u001b[1;31mNameError\u001b[0m: name 'emp_id' is not defined"
     ]
    }
   ],
   "source": [
    "new_info = zip(emp_id, f_name, l_name, DOB, SSN, state)\n",
    "\n",
    "\n"
   ]
  },
  {
   "cell_type": "code",
   "execution_count": 11,
   "metadata": {},
   "outputs": [
    {
     "ename": "NameError",
     "evalue": "name 'file_num' is not defined",
     "output_type": "error",
     "traceback": [
      "\u001b[1;31m---------------------------------------------------------------------------\u001b[0m",
      "\u001b[1;31mNameError\u001b[0m                                 Traceback (most recent call last)",
      "\u001b[1;32m<ipython-input-11-390dd6ee926b>\u001b[0m in \u001b[0;36m<module>\u001b[1;34m\u001b[0m\n\u001b[1;32m----> 1\u001b[1;33m \u001b[0moutput_doc\u001b[0m \u001b[1;33m=\u001b[0m \u001b[0mos\u001b[0m\u001b[1;33m.\u001b[0m\u001b[0mpath\u001b[0m\u001b[1;33m.\u001b[0m\u001b[0mjoin\u001b[0m\u001b[1;33m(\u001b[0m\u001b[1;34m'Output'\u001b[0m\u001b[1;33m,\u001b[0m \u001b[1;34m'new_emp_data'\u001b[0m \u001b[1;33m+\u001b[0m \u001b[0mstr\u001b[0m\u001b[1;33m(\u001b[0m\u001b[0mfile_num\u001b[0m\u001b[1;33m)\u001b[0m \u001b[1;33m+\u001b[0m \u001b[1;34m'.csv'\u001b[0m\u001b[1;33m)\u001b[0m\u001b[1;33m\u001b[0m\u001b[1;33m\u001b[0m\u001b[0m\n\u001b[0m\u001b[0;32m      2\u001b[0m \u001b[1;33m\u001b[0m\u001b[0m\n\u001b[0;32m      3\u001b[0m \u001b[1;33m\u001b[0m\u001b[0m\n",
      "\u001b[1;31mNameError\u001b[0m: name 'file_num' is not defined"
     ]
    }
   ],
   "source": [
    "output_doc = os.path.join('Output', 'new_emp_data' + str(file_num) + '.csv')\n",
    "\n",
    "\n"
   ]
  },
  {
   "cell_type": "code",
   "execution_count": 12,
   "metadata": {},
   "outputs": [
    {
     "ename": "NameError",
     "evalue": "name 'output_doc' is not defined",
     "output_type": "error",
     "traceback": [
      "\u001b[1;31m---------------------------------------------------------------------------\u001b[0m",
      "\u001b[1;31mNameError\u001b[0m                                 Traceback (most recent call last)",
      "\u001b[1;32m<ipython-input-12-ba7b7066e6be>\u001b[0m in \u001b[0;36m<module>\u001b[1;34m\u001b[0m\n\u001b[1;32m----> 1\u001b[1;33m \u001b[1;32mwith\u001b[0m \u001b[0mopen\u001b[0m\u001b[1;33m(\u001b[0m\u001b[0moutput_doc\u001b[0m\u001b[1;33m,\u001b[0m \u001b[1;34m'w'\u001b[0m\u001b[1;33m)\u001b[0m \u001b[1;32mas\u001b[0m \u001b[0mcsvwrite\u001b[0m\u001b[1;33m:\u001b[0m\u001b[1;33m\u001b[0m\u001b[1;33m\u001b[0m\u001b[0m\n\u001b[0m\u001b[0;32m      2\u001b[0m \u001b[1;33m\u001b[0m\u001b[0m\n\u001b[0;32m      3\u001b[0m     \u001b[0mnewinfo\u001b[0m \u001b[1;33m=\u001b[0m \u001b[0mcsv\u001b[0m\u001b[1;33m.\u001b[0m\u001b[0mwriter\u001b[0m\u001b[1;33m(\u001b[0m\u001b[0mcsvwrite\u001b[0m\u001b[1;33m,\u001b[0m \u001b[0mdelimiter\u001b[0m \u001b[1;33m=\u001b[0m \u001b[1;34m\",\"\u001b[0m\u001b[1;33m)\u001b[0m\u001b[1;33m\u001b[0m\u001b[1;33m\u001b[0m\u001b[0m\n\u001b[0;32m      4\u001b[0m \u001b[1;33m\u001b[0m\u001b[0m\n\u001b[0;32m      5\u001b[0m     \u001b[0mnewinfo\u001b[0m\u001b[1;33m.\u001b[0m\u001b[0mwriterow\u001b[0m\u001b[1;33m(\u001b[0m\u001b[1;33m[\u001b[0m\u001b[1;34m'Emp ID'\u001b[0m\u001b[1;33m,\u001b[0m \u001b[1;34m'First Name'\u001b[0m\u001b[1;33m,\u001b[0m \u001b[1;34m'Last Name'\u001b[0m\u001b[1;33m,\u001b[0m \u001b[1;34m'DOB'\u001b[0m\u001b[1;33m,\u001b[0m \u001b[1;34m'SSN'\u001b[0m\u001b[1;33m,\u001b[0m \u001b[1;34m'State'\u001b[0m\u001b[1;33m]\u001b[0m\u001b[1;33m)\u001b[0m\u001b[1;33m\u001b[0m\u001b[1;33m\u001b[0m\u001b[0m\n",
      "\u001b[1;31mNameError\u001b[0m: name 'output_doc' is not defined"
     ]
    }
   ],
   "source": [
    "with open(output_doc, 'w') as csvwrite:\n",
    "\n",
    "    newinfo = csv.writer(csvwrite, delimiter = \",\")\n",
    "\n",
    "    newinfo.writerow(['Emp ID', 'First Name', 'Last Name', 'DOB', 'SSN', 'State'])\n",
    "\n",
    "    newinfo.writerows(new_data)"
   ]
  },
  {
   "cell_type": "code",
   "execution_count": null,
   "metadata": {},
   "outputs": [],
   "source": []
  }
 ],
 "metadata": {
  "kernelspec": {
   "display_name": "Python 3",
   "language": "python",
   "name": "python3"
  },
  "language_info": {
   "codemirror_mode": {
    "name": "ipython",
    "version": 3
   },
   "file_extension": ".py",
   "mimetype": "text/x-python",
   "name": "python",
   "nbconvert_exporter": "python",
   "pygments_lexer": "ipython3",
   "version": "3.7.4"
  }
 },
 "nbformat": 4,
 "nbformat_minor": 2
}
